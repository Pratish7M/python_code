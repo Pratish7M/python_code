{
 "cells": [
  {
   "cell_type": "code",
   "execution_count": 5,
   "metadata": {},
   "outputs": [
    {
     "name": "stdout",
     "output_type": "stream",
     "text": [
      "25\n",
      "takes a n in number , and return square of n\n"
     ]
    }
   ],
   "source": [
    "def square(a):\n",
    "    '''takes a n in number , and return square of n'''\n",
    "   \n",
    "    print(a*a)\n",
    "\n",
    " \n",
    "square(5)\n",
    "\n",
    "print(square.__doc__)"
   ]
  },
  {
   "cell_type": "code",
   "execution_count": null,
   "metadata": {},
   "outputs": [],
   "source": []
  }
 ],
 "metadata": {
  "kernelspec": {
   "display_name": "Python 3",
   "language": "python",
   "name": "python3"
  },
  "language_info": {
   "name": "python",
   "version": "3.11.2"
  },
  "orig_nbformat": 4
 },
 "nbformat": 4,
 "nbformat_minor": 2
}
