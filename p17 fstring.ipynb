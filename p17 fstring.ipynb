{
 "cells": [
  {
   "cell_type": "code",
   "execution_count": 2,
   "metadata": {},
   "outputs": [
    {
     "name": "stdout",
     "output_type": "stream",
     "text": [
      "hello my name is pratish and i am from japan\n",
      "hello my name is pratish and i am from japan\n"
     ]
    }
   ],
   "source": [
    "letter = \"hello my name is {} and i am from {}\"\n",
    "name = \"pratish\"\n",
    "country = \"japan\"\n",
    "\n",
    "#old method \n",
    "letter.format(name, country)\n",
    "print(letter.format(name, country))\n",
    "\n",
    "#fstring mathod\n",
    "print(f\"hello my name is {name} and i am from {country}\")"
   ]
  },
  {
   "cell_type": "code",
   "execution_count": 3,
   "metadata": {},
   "outputs": [
    {
     "name": "stdout",
     "output_type": "stream",
     "text": [
      "hello my name is yash and i am from india\n"
     ]
    }
   ],
   "source": [
    "#fstring \n",
    "name = \"yash\"\n",
    "country = \"india\"\n",
    "print(f\"hello my name is {name} and i am from {country}\")"
   ]
  },
  {
   "cell_type": "code",
   "execution_count": 4,
   "metadata": {},
   "outputs": [
    {
     "name": "stdout",
     "output_type": "stream",
     "text": [
      "jaya kya tum {introvert} ho \n"
     ]
    }
   ],
   "source": [
    "#fstring : if you want to print curly bracket \n",
    "print(f\"jaya kya tum {{introvert}} ho \")\n"
   ]
  },
  {
   "cell_type": "code",
   "execution_count": 6,
   "metadata": {},
   "outputs": [
    {
     "name": "stdout",
     "output_type": "stream",
     "text": [
      "your account balance is 49.02\n"
     ]
    }
   ],
   "source": [
    "#fstring\n",
    "price = 49.0248652\n",
    "txt = f\"your account balance is {price:.2f}\"\n",
    "print(txt)\n",
    "\n",
    "\"price:.2f means only print onlt two values after decimal \""
   ]
  },
  {
   "cell_type": "code",
   "execution_count": 7,
   "metadata": {},
   "outputs": [
    {
     "name": "stdout",
     "output_type": "stream",
     "text": [
      "your account balance is 60\n"
     ]
    }
   ],
   "source": [
    "print(f\"your account balance is {2*30}\")"
   ]
  },
  {
   "cell_type": "code",
   "execution_count": 9,
   "metadata": {},
   "outputs": [
    {
     "name": "stdout",
     "output_type": "stream",
     "text": [
      "<class 'str'>\n"
     ]
    }
   ],
   "source": [
    "print(type(f\"{2*30}\"))"
   ]
  }
 ],
 "metadata": {
  "kernelspec": {
   "display_name": "Python 3",
   "language": "python",
   "name": "python3"
  },
  "language_info": {
   "codemirror_mode": {
    "name": "ipython",
    "version": 3
   },
   "file_extension": ".py",
   "mimetype": "text/x-python",
   "name": "python",
   "nbconvert_exporter": "python",
   "pygments_lexer": "ipython3",
   "version": "3.11.2"
  },
  "orig_nbformat": 4
 },
 "nbformat": 4,
 "nbformat_minor": 2
}
