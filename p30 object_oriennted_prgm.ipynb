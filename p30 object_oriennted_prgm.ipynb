{
 "cells": [
  {
   "cell_type": "code",
   "execution_count": 3,
   "metadata": {},
   "outputs": [],
   "source": [
    "# class = properties + behaiviour\n",
    "class Phone:\n",
    "    def making_call(self):\n",
    "        print(\"making call\")\n",
    "    def playing_game(self):\n",
    "        print(\"playing game\")\n",
    "\n",
    "\n"
   ]
  },
  {
   "cell_type": "code",
   "execution_count": 4,
   "metadata": {},
   "outputs": [],
   "source": [
    "p1 = Phone()"
   ]
  },
  {
   "cell_type": "code",
   "execution_count": 5,
   "metadata": {},
   "outputs": [
    {
     "name": "stdout",
     "output_type": "stream",
     "text": [
      "making call\n",
      "playing game\n"
     ]
    }
   ],
   "source": [
    "p1.making_call()\n",
    "p1.playing_game()"
   ]
  },
  {
   "cell_type": "code",
   "execution_count": 6,
   "metadata": {},
   "outputs": [],
   "source": [
    "class Laptop :\n",
    "    def set_colour(self,colour):\n",
    "        self.colour = colour\n",
    "    def set_price(self,price):\n",
    "        self.price = price\n",
    "    # def show_colour(self):\n",
    "    #     print(\"colour is \", self.colour)\n",
    "    # def show_price(self):\n",
    "    #     print(\"price is \", self.price)\n",
    "\n",
    "obj = Laptop()\n",
    "\n"
   ]
  },
  {
   "cell_type": "code",
   "execution_count": 22,
   "metadata": {},
   "outputs": [
    {
     "name": "stdout",
     "output_type": "stream",
     "text": [
      "black\n",
      "20000\n"
     ]
    }
   ],
   "source": [
    "obj.set_colour(\"black\")\n",
    "obj.set_price(\"20000\")\n",
    "\n",
    "# obj.show_colour()\n",
    "# obj.show_price()\n",
    "\n",
    "print(obj.colour)\n",
    "print(obj.price)\n"
   ]
  },
  {
   "cell_type": "code",
   "execution_count": 10,
   "metadata": {},
   "outputs": [
    {
     "name": "stdout",
     "output_type": "stream",
     "text": [
      "the colour is :  red\n",
      "the price :  135000\n",
      "the model is :  iphoneX\n",
      "red\n",
      "iphoneX\n"
     ]
    }
   ],
   "source": [
    "#use constructor\n",
    "class Iphone :\n",
    "    def __init__(self,colour,price,model):\n",
    "        self.colour = colour\n",
    "        self.price = price\n",
    "        self.model = model\n",
    "\n",
    "    def show_details(self):\n",
    "        print(\"the colour is : \",self.colour)\n",
    "        print(\"the price : \", self.price)\n",
    "        print(\"the model is : \", self.model)\n",
    "\n",
    "p2 = Iphone(\"red\",135000,\"iphoneX\")\n",
    "p2.show_details() \n",
    "\n",
    "print(p2.colour)\n",
    "print(p2.model)\n",
    "\n",
    "\n"
   ]
  },
  {
   "cell_type": "code",
   "execution_count": 39,
   "metadata": {},
   "outputs": [
    {
     "name": "stdout",
     "output_type": "stream",
     "text": [
      "pratish\n",
      "20\n"
     ]
    },
    {
     "ename": "TypeError",
     "evalue": "'student' object is not callable",
     "output_type": "error",
     "traceback": [
      "\u001b[1;31m---------------------------------------------------------------------------\u001b[0m",
      "\u001b[1;31mTypeError\u001b[0m                                 Traceback (most recent call last)",
      "Cell \u001b[1;32mIn[39], line 17\u001b[0m\n\u001b[0;32m     14\u001b[0m \u001b[39mprint\u001b[39m(student\u001b[39m.\u001b[39mage1)\n\u001b[0;32m     15\u001b[0m student\u001b[39m.\u001b[39mshow_details()\n\u001b[1;32m---> 17\u001b[0m student2 \u001b[39m=\u001b[39m student(\u001b[39m'\u001b[39;49m\u001b[39myash\u001b[39;49m\u001b[39m'\u001b[39;49m,\u001b[39m18\u001b[39;49m,\u001b[39m222\u001b[39;49m)\n\u001b[0;32m     19\u001b[0m \u001b[39mprint\u001b[39m(student2\u001b[39m.\u001b[39mname1)\n\u001b[0;32m     20\u001b[0m \u001b[39mprint\u001b[39m(student2\u001b[39m.\u001b[39mregno)\n",
      "\u001b[1;31mTypeError\u001b[0m: 'student' object is not callable"
     ]
    }
   ],
   "source": [
    "class student():\n",
    "\n",
    "    def __init__(self,name,age,regno):\n",
    "        self.name1 = name\n",
    "        self.age1 = age\n",
    "        self.regno = 1000 #default\n",
    "\n",
    "    def show_details(self):\n",
    "        return self.name1,self.age1,self.regno\n",
    "\n",
    "student = student('pratish',20,16711)\n",
    "\n",
    "print(student.name1)\n",
    "print(student.age1)\n",
    "student.show_details()\n",
    "\n",
    "student2 = student('yash',18)\n",
    "\n",
    "print(student2.name1)\n",
    "print(student2.regno)\n",
    "student2.show_details()\n"
   ]
  }
 ],
 "metadata": {
  "kernelspec": {
   "display_name": "Python 3",
   "language": "python",
   "name": "python3"
  },
  "language_info": {
   "codemirror_mode": {
    "name": "ipython",
    "version": 3
   },
   "file_extension": ".py",
   "mimetype": "text/x-python",
   "name": "python",
   "nbconvert_exporter": "python",
   "pygments_lexer": "ipython3",
   "version": "3.11.2"
  },
  "orig_nbformat": 4
 },
 "nbformat": 4,
 "nbformat_minor": 2
}
